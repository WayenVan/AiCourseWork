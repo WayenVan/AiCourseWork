{
 "cells": [
  {
   "cell_type": "code",
   "execution_count": 16,
   "metadata": {},
   "outputs": [],
   "source": [
    "from matplotlib import pyplot as plt\n",
    "\n",
    "import sys\n",
    "sys.path.append(r'../virl')\n",
    "import virl\n",
    "\n",
    "sys.path.append(r'..')\n",
    "from q_learning_tab import *\n",
    "from QlernNN_WangJingyan.evaluation import *\n",
    "\n",
    "#import time\n",
    "import time\n",
    "from datetime import date"
   ]
  },
  {
   "cell_type": "code",
   "execution_count": 20,
   "metadata": {},
   "outputs": [
    {
     "output_type": "stream",
     "name": "stdout",
     "text": [
      "Step 51 @ Episode 1/1 (-0.08663568499343535)"
     ]
    }
   ],
   "source": [
    "# episodes number\n",
    "num_episodes = 1\n",
    "max_step_week = 100\n",
    "\n",
    "\n",
    "for num_instance in range(10):\n",
    "\n",
    "    for s_n in range(4):\n",
    "        #set stochastic\n",
    "        stochastic = bool((s_n//2)%2)\n",
    "        noisy = bool(s_n%2) \n",
    "\n",
    "        env = virl.Epidemic(problem_id=num_instance, stochastic=stochastic, noisy=noisy)\n",
    "        stats = TabQLearningAgent(env, num_episodes, max_step_week).rl()\n",
    "\n",
    "        save_variable(stats, \"./data/stats_training/stats_train0{}_{}{}.dat\".format(num_instance, int(stochastic), int(noisy)))\n",
    "\n",
    "        #output log\n",
    "        t = time.localtime()\n",
    "        current_time = time.strftime(\"%H:%M:%S\", t)\n",
    "\n",
    "        date = date.today()\n",
    "        log = open(\"./data/training.log\", \"a\")\n",
    "        log.write(\"problem_id = {} with stochatstic={} and noisy={} finished training in {} {}\\n\".format(num_instance, stochastic, noisy, current_time, date))\n",
    "        log.close()"
   ]
  }
 ],
 "metadata": {
  "kernelspec": {
   "display_name": "Python 3",
   "language": "python",
   "name": "python3"
  },
  "language_info": {
   "codemirror_mode": {
    "name": "ipython",
    "version": 3
   },
   "file_extension": ".py",
   "mimetype": "text/x-python",
   "name": "python",
   "nbconvert_exporter": "python",
   "pygments_lexer": "ipython3",
   "version": "3.8.3-final"
  }
 },
 "nbformat": 4,
 "nbformat_minor": 4
}