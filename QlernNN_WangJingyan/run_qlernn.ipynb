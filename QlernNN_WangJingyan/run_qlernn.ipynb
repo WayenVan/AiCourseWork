{
 "cells": [
  {
   "cell_type": "code",
   "execution_count": 3,
   "metadata": {},
   "outputs": [
    {
     "output_type": "stream",
     "name": "stdout",
     "text": [
      "3.8.5 (default, Sep  4 2020, 02:22:02) \n[Clang 10.0.0 ]\n<module 'posixpath' from '/Users/wayenvan/opt/anaconda3/lib/python3.8/posixpath.py'>\nKeras:  2.4.3\nTF:  2.3.1\n\n\nYou are good to go\n"
     ]
    }
   ],
   "source": [
    "import numpy as np\n",
    "import matplotlib.pyplot as plt\n",
    "\n",
    "# Misc\n",
    "import warnings\n",
    "import tensorflow as tf\n",
    "import keras \n",
    "warnings.filterwarnings('ignore')\n",
    "\n",
    "print(sys.version)\n",
    "print(os.path)\n",
    "print(\"Keras: \",keras.__version__)\n",
    "print(\"TF: \",tf.__version__)\n",
    "print(\"\\n\\nYou are good to go\")\n",
    "\n",
    "#\n",
    "from approximator import *\n",
    "from q_learning_nn import *\n",
    "from evaluation import *\n",
    "\n",
    "#import environment\n",
    "sys.path.append(r'../virl')\n",
    "import virl\n",
    "\n"
   ]
  },
  {
   "cell_type": "markdown",
   "metadata": {},
   "source": [
    "## Training phase\n",
    "define some properities"
   ]
  },
  {
   "cell_type": "code",
   "execution_count": 4,
   "metadata": {},
   "outputs": [],
   "source": [
    "#create training environment, I am using P1\n",
    "env_train = virl.Epidemic(stochastic=True, noisy=True) \n",
    "\n",
    "d_states = env_train.observation_space.shape[0]\n",
    "n_actions = env_train.action_space.n\n",
    "\n",
    "alpha = 0.001\n",
    "nn_config = [36,36,36]\n",
    "BATCH_SIZE = 20\n",
    "BUFFER_SIZE = 10000"
   ]
  },
  {
   "cell_type": "markdown",
   "metadata": {},
   "source": [
    "start training"
   ]
  },
  {
   "cell_type": "code",
   "execution_count": 39,
   "metadata": {},
   "outputs": [
    {
     "output_type": "stream",
     "name": "stdout",
     "text": [
      "episode: 199/200, score: 51, epsilon: 0.001"
     ]
    }
   ],
   "source": [
    "\n",
    "# Init the tow networks\n",
    "nn_func_approximator = NNFunctionApproximatorJointKeras(alpha, d_states, n_actions, nn_config)\n",
    "nn_func_approximator_target = NNFunctionApproximatorJointKeras(alpha, d_states, n_actions, nn_config)\n",
    "\n",
    "# Training   \n",
    "stats = q_learning_nn(env_train,nn_func_approximator, nn_func_approximator_target, 5000, max_steps_per_episode=200, \n",
    "                      epsilon_init=0.5, epsilon_decay=0.995, epsilon_min=0.001, fn_model_out=r\"./data/cartpole_temp.h5\")"
   ]
  },
  {
   "cell_type": "code",
   "execution_count": 5,
   "metadata": {},
   "outputs": [
    {
     "output_type": "error",
     "ename": "NameError",
     "evalue": "name 'stats' is not defined",
     "traceback": [
      "\u001b[0;31m---------------------------------------------------------------------------\u001b[0m",
      "\u001b[0;31mNameError\u001b[0m                                 Traceback (most recent call last)",
      "\u001b[0;32m<ipython-input-5-26d355ee07c0>\u001b[0m in \u001b[0;36m<module>\u001b[0;34m\u001b[0m\n\u001b[1;32m      1\u001b[0m \u001b[0;31m#save stats\u001b[0m\u001b[0;34m\u001b[0m\u001b[0;34m\u001b[0m\u001b[0;34m\u001b[0m\u001b[0m\n\u001b[0;32m----> 2\u001b[0;31m \u001b[0mstats_storage\u001b[0m \u001b[0;34m=\u001b[0m \u001b[0mStats_storage\u001b[0m\u001b[0;34m(\u001b[0m\u001b[0mstats\u001b[0m\u001b[0;34m)\u001b[0m\u001b[0;34m\u001b[0m\u001b[0;34m\u001b[0m\u001b[0m\n\u001b[0m\u001b[1;32m      3\u001b[0m \u001b[0msave_variable\u001b[0m\u001b[0;34m(\u001b[0m\u001b[0mstats_storage\u001b[0m\u001b[0;34m,\u001b[0m \u001b[0;34m\"./data/stats_train\"\u001b[0m\u001b[0;34m)\u001b[0m\u001b[0;34m\u001b[0m\u001b[0;34m\u001b[0m\u001b[0m\n",
      "\u001b[0;31mNameError\u001b[0m: name 'stats' is not defined"
     ]
    }
   ],
   "source": [
    "#save stats\n",
    "stats_storage = Stats_storage(stats)\n",
    "save_variable(stats_storage, \"./data/stats_train\")"
   ]
  },
  {
   "cell_type": "markdown",
   "metadata": {},
   "source": [
    "review the process change"
   ]
  },
  {
   "cell_type": "code",
   "execution_count": 7,
   "metadata": {},
   "outputs": [],
   "source": [
    "s = load_variable(\"./data/stats_train\")"
   ]
  },
  {
   "cell_type": "code",
   "execution_count": 8,
   "metadata": {},
   "outputs": [],
   "source": [
    "c = np.mean(np.resize(s.episode_rewards, [200//5,5]), axis=1)"
   ]
  }
 ],
 "metadata": {
  "kernelspec": {
   "display_name": "Python 3",
   "language": "python",
   "name": "python3"
  },
  "language_info": {
   "codemirror_mode": {
    "name": "ipython",
    "version": 3
   },
   "file_extension": ".py",
   "mimetype": "text/x-python",
   "name": "python",
   "nbconvert_exporter": "python",
   "pygments_lexer": "ipython3",
   "version": "3.8.5-final"
  }
 },
 "nbformat": 4,
 "nbformat_minor": 4
}