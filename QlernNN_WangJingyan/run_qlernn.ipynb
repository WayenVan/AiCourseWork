{
 "cells": [
  {
   "cell_type": "code",
   "execution_count": 1,
   "metadata": {},
   "outputs": [
    {
     "name": "stdout",
     "output_type": "stream",
     "text": [
      "3.8.5 (default, Sep  4 2020, 02:22:02) \n",
      "[Clang 10.0.0 ]\n",
      "<module 'posixpath' from '/Users/wayenvan/opt/anaconda3/lib/python3.8/posixpath.py'>\n",
      "Keras:  2.4.3\n",
      "TF:  2.3.1\n",
      "\n",
      "\n",
      "You are good to go\n"
     ]
    }
   ],
   "source": [
    "# The basics\n",
    "%matplotlib inline\n",
    "import matplotlib.pyplot as plt\n",
    "import time\n",
    "import itertools\n",
    "import matplotlib\n",
    "from mpl_toolkits.mplot3d import Axes3D\n",
    "from collections import deque\n",
    "\n",
    "import numpy as np\n",
    "import sys\n",
    "import os\n",
    "import random\n",
    "from collections import namedtuple\n",
    "import collections\n",
    "import copy\n",
    "\n",
    "# Import the open AI gym\n",
    "import gym\n",
    "\n",
    "# Keras and backend for neural networks\n",
    "import keras\n",
    "from keras.models import Sequential\n",
    "from keras.layers import Dense\n",
    "from keras.optimizers import Adam\n",
    "from keras import backend as K\n",
    "import tensorflow as tf\n",
    "\n",
    "# Misc\n",
    "import warnings\n",
    "warnings.filterwarnings('ignore')\n",
    "\n",
    "print(sys.version)\n",
    "print(os.path)\n",
    "print(\"Keras: \",keras.__version__)\n",
    "print(\"TF: \",tf.__version__)\n",
    "print(\"\\n\\nYou are good to go\")\n",
    "\n",
    "#import environment\n",
    "sys.path.append(r'../virl')\n",
    "import virl"
   ]
  },
  {
   "cell_type": "markdown",
   "metadata": {},
   "source": [
    "## Training phase"
   ]
  },
  {
   "cell_type": "markdown",
   "metadata": {},
   "source": [
    "### define the approximator and q_learning agent"
   ]
  },
  {
   "cell_type": "code",
   "execution_count": 2,
   "metadata": {},
   "outputs": [],
   "source": [
    "\n",
    "#define approximator\n",
    "class NNFunctionApproximatorJointKeras():\n",
    "    \"\"\" A basic MLP neural network approximator and estimator using Keras     \n",
    "    \"\"\"\n",
    "    \n",
    "    def __init__(self, alpha, d_states, n_actions, nn_config, verbose=False):        \n",
    "        self.alpha = alpha    \n",
    "        self.nn_config = nn_config      # determines the size of the hidden layer (if any)             \n",
    "        self.n_actions = n_actions        \n",
    "        self.d_states = d_states\n",
    "        self.verbose=verbose # Print debug information        \n",
    "        self.n_layers = len(nn_config)                \n",
    "        self.model = self._build_model()                \n",
    "                        \n",
    "    def _huber_loss(self,y_true, y_pred, clip_delta=1.0):\n",
    "        \"\"\"\n",
    "        Huber loss (for use in Keras), see https://en.wikipedia.org/wiki/Huber_loss\n",
    "        The huber loss tends to provide more robust learning in RL settings where there are \n",
    "        often \"outliers\" before the functions has converged.\n",
    "        \"\"\"\n",
    "        error = y_true - y_pred\n",
    "        cond  = K.abs(error) <= clip_delta\n",
    "        squared_loss = 0.5 * K.square(error)\n",
    "        quadratic_loss = 0.5 * K.square(clip_delta) + clip_delta * (K.abs(error) - clip_delta)\n",
    "        return K.mean(tf.where(cond, squared_loss, quadratic_loss))\n",
    "\n",
    "    def _build_model(self):\n",
    "        # Neural Net for Deep-Q learning \n",
    "        model = Sequential()\n",
    "        for ilayer in self.nn_config:\n",
    "            model.add(Dense(ilayer, input_dim=self.d_states, activation='relu'))        \n",
    "        model.add(Dense(self.n_actions, activation='linear'))\n",
    "        model.compile(loss=self._huber_loss, # define a special loss function\n",
    "                      optimizer=Adam(lr=self.alpha, clipnorm=10.)) # specify the optimiser, we clip the gradient of the norm which can make traning more robust\n",
    "        return model\n",
    "\n",
    "    def predict(self, s, a=None):              \n",
    "        if a==None:            \n",
    "            return self._predict_nn(s)\n",
    "        else:                        \n",
    "            return self._predict_nn(s)[a]\n",
    "        \n",
    "    def _predict_nn(self,state_hat):                          \n",
    "        \"\"\"\n",
    "        Predict the output of the neural netwwork (note: these can be vectors)\n",
    "        \"\"\"                \n",
    "        x = self.model.predict(state_hat)                                                    \n",
    "        return x\n",
    "  \n",
    "    def update(self, states, td_target):           \n",
    "        self.model.fit(states, td_target, epochs=1, verbose=0) # take one gradient step usign Adam               \n",
    "        return "
   ]
  },
  {
   "cell_type": "code",
   "execution_count": 19,
   "metadata": {},
   "outputs": [],
   "source": [
    "#define a replay buffer\n",
    "Transition = namedtuple('Transition',\n",
    "                        ('state', 'action', 'next_state', 'reward','is_not_terminal_state'))\n",
    "\n",
    "class ReplayMemory():\n",
    "    \"\"\"\n",
    "    Implement a replay buffer using the deque collection\n",
    "    \"\"\"\n",
    "\n",
    "    def __init__(self, capacity):\n",
    "        self.capacity = capacity\n",
    "        self.memory = deque(maxlen=capacity)               \n",
    "\n",
    "    def push(self, *args):\n",
    "        \"\"\"Saves a transition.\"\"\"\n",
    "        self.memory.append(Transition(*args))\n",
    "\n",
    "    def pop(self):\n",
    "        return self.memoery.pop()\n",
    "\n",
    "    def sample(self, batch_size):\n",
    "        return random.sample(self.memory, batch_size)   \n",
    "\n",
    "    def __len__(self):\n",
    "        return len(self.memory)"
   ]
  },
  {
   "cell_type": "code",
   "execution_count": 20,
   "metadata": {},
   "outputs": [],
   "source": [
    "# Keep track of some stats\n",
    "EpisodeStats = namedtuple(\"Stats\",[\"episode_lengths\", \"episode_rewards\"])\n",
    "\n",
    "#define a q_learning agent with\n",
    "def q_learning_nn(env, func_approximator, func_approximator_target, num_episodes,max_steps_per_episode=500,discount_factor=0.95, epsilon_init=0.01, epsilon_decay=0.99995,epsilon_min=0.01,use_batch_updates=True, fn_model_in=None, fn_model_out=None):\n",
    "    \"\"\"\n",
    "    Q-Learning algorithm for Q-learning using Function Approximations.\n",
    "    Finds the optimal greedy policy while following an explorative greedy policy.\n",
    "    \n",
    "    Args:\n",
    "        env: OpenAI environment.bb\n",
    "        func_approximator: Action-Value function estimator, behavior policy (i.e. the function which determines the next action)\n",
    "        func_approximator_target: Action-Value function estimator, updated less frequenty than the behavior policy \n",
    "        num_episodes: Number of episodes to run for.\n",
    "        max_steps_per_episode: Max number of steps per episodes\n",
    "        discount_factor: Gamma discount factor.\n",
    "        epsilon_init: Exploration strategy; chance the sample a random action. Float between 0 and 1.\n",
    "        epsilon_decay: Each episode, epsilon is decayed by this factor\n",
    "        epislon_min: Min epsilon value        \n",
    "        use_batch_updates=True, \n",
    "        fn_model_in: Load the model from the file if not None\n",
    "        fn_model_out: File name of the saved model, saves the best model in the last 100 episodes\n",
    "\n",
    "    Returns:\n",
    "        An EpisodeStats object with two numpy arrays for episode_lengths and episode_rewards.\n",
    "    \"\"\"\n",
    "        \n",
    "    memory = ReplayMemory(BUFFER_SIZE) # init the replay memory    \n",
    "    n_actions = env.action_space.n        \n",
    "    d_states  = env.observation_space.shape[0]    \n",
    "    best_reward = 0\n",
    "\n",
    "    # Synch the target and behavior network\n",
    "    if not fn_model_in is None:\n",
    "        func_approximator.model.load_weights(fn_model_in)\n",
    "    func_approximator_target.model.set_weights(func_approximator.model.get_weights())\n",
    "\n",
    "    # Keeps track of useful statistics\n",
    "    stats = EpisodeStats(\n",
    "        episode_lengths=np.zeros(num_episodes),\n",
    "        episode_rewards=np.zeros(num_episodes))            \n",
    "\n",
    "    epsilon = epsilon_init\n",
    "\n",
    "    for i_episode in range(num_episodes):\n",
    "        \n",
    "        sys.stdout.flush()\n",
    "               \n",
    "        # Reset the environment and pick the first action\n",
    "        state = env.reset()\n",
    "        state = np.reshape(state, [1, d_states]) # reshape to the a 1xd_state numpy array\n",
    "        \n",
    "        # One step in the environment\n",
    "        for t in range(max_steps_per_episode):#itertools.count():\n",
    "\n",
    "            # Select an action usign and epsilon greedy policy based on the main behavior network\n",
    "            if np.random.rand() <= epsilon:\n",
    "                action = random.randrange(n_actions)\n",
    "            else:\n",
    "                act_values = func_approximator.predict(state)[0]\n",
    "                action = np.argmax(act_values)  # returns action                        \n",
    "            \n",
    "            # Take a step            \n",
    "            next_state, reward, done, _ = env.step(action)                        \n",
    "            next_state = np.reshape(next_state, [1, d_states] )\n",
    "            \n",
    "            # Add observation to the replay buffer\n",
    "            if done:\n",
    "                memory.push(state, action, next_state, reward, 0.0)            \n",
    "            else:\n",
    "                memory.push(state, action, next_state, reward, 1.0)            \n",
    "            \n",
    "            # Update statistics\n",
    "            stats.episode_rewards[i_episode] += reward\n",
    "            stats.episode_lengths[i_episode] = t\n",
    "                     \n",
    "            # Update network (if learning is on, i.e. alpha>0 and we have enough samples in memory)\n",
    "            if func_approximator.alpha > 0.0 and len(memory) >= BATCH_SIZE:                         \n",
    "                # Fetch a bacth from the replay buffer and extract as numpy arrays \n",
    "                transitions = memory.sample(BATCH_SIZE)            \n",
    "                batch = Transition(*zip(*transitions))                                \n",
    "                train_rewards = np.array(batch.reward)\n",
    "                train_states = np.array(batch.state)\n",
    "                train_next_state = np.array(batch.next_state)\n",
    "                train_actions = np.array(batch.action)\n",
    "                train_is_not_terminal_state = np.array(batch.is_not_terminal_state) # \n",
    "                                \n",
    "                if(use_batch_updates):\n",
    "                    # Do a single gradient step computed based on the full batch\n",
    "                    train_td_targets    = func_approximator.predict(train_states.reshape(BATCH_SIZE,4)) # predict current values for the given states\n",
    "                    q_values_next       = func_approximator_target.predict(np.array(batch.next_state).reshape(BATCH_SIZE,d_states))                    \n",
    "                    train_td_targetstmp = train_rewards + discount_factor * train_is_not_terminal_state * np.amax(q_values_next,axis=1)                \n",
    "                    train_td_targets[ (np.arange(BATCH_SIZE), train_actions.reshape(BATCH_SIZE,).astype(int))] = train_td_targetstmp                                                                              \n",
    "                    func_approximator.update(train_states.reshape(BATCH_SIZE,d_states), train_td_targets) # Update the function approximator using our target       \n",
    "                else:\n",
    "                    # Do update in a truely online sense where a gradient step is performaed per observation\n",
    "                    for s in range(train_rewards.shape[0]):                        \n",
    "                        target = func_approximator.predict(train_states[s])[0]\n",
    "                        q_next = func_approximator_target.predict(train_next_state[s])[0]\n",
    "                        target[train_actions[s]] = train_rewards[s] + discount_factor * train_is_not_terminal_state[s] * np.amax(q_next)                        \n",
    "                        func_approximator.update(train_states[s], target.reshape(1,n_actions)) # Update the function approximator using our target                                            \n",
    "                if epsilon > epsilon_min:\n",
    "                    epsilon *= epsilon_decay\n",
    "            \n",
    "            state = next_state                \n",
    "            \n",
    "            # \n",
    "            if done:\n",
    "                # Synch the target and behavior network\n",
    "                func_approximator_target.model.set_weights(func_approximator.model.get_weights())\n",
    "              \n",
    "                print(\"\\repisode: {}/{}, score: {}, epsilon: {:.2}\".format(i_episode, num_episodes, t, epsilon), end=\"\")                               \n",
    "\n",
    "                # Save the best model so far    \n",
    "                if fn_model_out is not None and (t >= best_reward):\n",
    "                    func_approximator.model.save_weights(fn_model_out)\n",
    "                    best_reward = t\n",
    "                \n",
    "                break\n",
    "            \n",
    "    return stats"
   ]
  },
  {
   "cell_type": "code",
   "execution_count": 21,
   "metadata": {},
   "outputs": [],
   "source": [
    "def load_approximator(func_approximator_target, fn_model_in):\n",
    "    \"\"\"load an approximator from file\"\"\"\n",
    "    if not fn_model_in is None:\n",
    "        func_approximator_target.model.load_weights(fn_model_in)"
   ]
  },
  {
   "cell_type": "markdown",
   "metadata": {},
   "source": [
    "### start training"
   ]
  },
  {
   "cell_type": "code",
   "execution_count": 22,
   "metadata": {},
   "outputs": [
    {
     "name": "stdout",
     "output_type": "stream",
     "text": [
      "episode: 999/1000, score: 51, epsilon: 0.001"
     ]
    }
   ],
   "source": [
    "#create training environment, I am using P1\n",
    "env_train = virl.Epidemic(stochastic=False, noisy=False) \n",
    "\n",
    "d_states = env_train.observation_space.shape[0]\n",
    "n_actions = env_train.action_space.n\n",
    "\n",
    "alpha = 0.001\n",
    "nn_config = [36,36,36]\n",
    "BATCH_SIZE = 20\n",
    "BUFFER_SIZE = 10000\n",
    "\n",
    "# Init the tow networks\n",
    "nn_func_approximator = NNFunctionApproximatorJointKeras(alpha, d_states, n_actions, nn_config)\n",
    "nn_func_approximator_target = NNFunctionApproximatorJointKeras(alpha, d_states, n_actions, nn_config)\n",
    "\n",
    "# Training   \n",
    "stats = q_learning_nn(env_train,nn_func_approximator, nn_func_approximator_target, 1000, max_steps_per_episode=400, \n",
    "                      epsilon_init=0.1, epsilon_decay=0.995, epsilon_min=0.001, fn_model_out=r\"./cartpole_temp.h5\")"
   ]
  },
  {
   "cell_type": "markdown",
   "metadata": {},
   "source": [
    "## Evaluation phase\n",
    "Define a exec step function to make step using the approximator"
   ]
  },
  {
   "cell_type": "code",
   "execution_count": 23,
   "metadata": {},
   "outputs": [],
   "source": [
    "def policy_generator(env, epsilon, approximator, policy_type=\"random\"):\n",
    "    \"\"\"\n",
    "    Creates an greedy policy with the exploration defined by the epsilon and nA parameters\n",
    "    \n",
    "    Input:\n",
    "        epsilon: The probability to select a random action . float between 0 and 1.\n",
    "        env: The environment\n",
    "        policy_type: The type of policy, either random or greedy\n",
    "    \n",
    "    Output:\n",
    "        A function that takes the observation as an argument and returns an action\n",
    "    \"\"\"\n",
    "    def random_policy(s):\n",
    "        action=np.random.choice(env.action_space.n)\n",
    "        return action\n",
    "    \n",
    "    def greedy_policy(s):\n",
    "         # Select an action usign and epsilon greedy policy based on the main behavior network\n",
    "        if np.random.rand() <= epsilon:\n",
    "            action = random.randrange(env.action_space.n)\n",
    "        else:\n",
    "            act_values = approximator.predict(np.reshape(s, [1, env.observation_space.shape[0]]))[0]\n",
    "            action = np.argmax(act_values)  # returns action\n",
    "        return action\n",
    "    \n",
    "    if(policy_type==\"random\"):\n",
    "        return random_policy\n",
    "    if(policy_type==\"greedy\"):\n",
    "        return greedy_policy\n",
    "    else:\n",
    "        return None"
   ]
  },
  {
   "cell_type": "code",
   "execution_count": 24,
   "metadata": {},
   "outputs": [],
   "source": [
    "def exec_agent(policy, env):\n",
    "    \n",
    "    d_states = env.observation_space.shape[0]\n",
    "    n_actions = env.action_space.n\n",
    "    \n",
    "    states = []\n",
    "    rewards = []\n",
    "    actions = []    \n",
    "    \n",
    "    #reset the environment\n",
    "    state = env.reset()\n",
    "    states.append(state)\n",
    "    \n",
    "    for i in itertools.count():\n",
    "        action = policy(state)\n",
    "        \n",
    "        #exec the policy\n",
    "        state, reward, done, _= env.step(action)\n",
    "        \n",
    "        states.append(state)\n",
    "        rewards.append(reward)\n",
    "        actions.append(action)\n",
    "        \n",
    "        if done:\n",
    "            break\n",
    "            \n",
    "    return states, rewards, actions"
   ]
  },
  {
   "cell_type": "markdown",
   "metadata": {},
   "source": [
    "now apply the approximator"
   ]
  },
  {
   "cell_type": "code",
   "execution_count": 25,
   "metadata": {},
   "outputs": [],
   "source": [
    "env = virl.Epidemic(problem_id=2) \n",
    "\n",
    "approximator_trained = NNFunctionApproximatorJointKeras(alpha, d_states, n_actions, nn_config)\n",
    "load_approximator(approximator_trained, r\"./cartpole_finished.h5\")\n",
    "\n",
    "epsilon_fixed = 0.1\n",
    "policy_greedy = policy_generator(env,epsilon_fixed, approximator_trained, policy_type=\"greedy\")\n",
    "policy_random = policy_generator(env, epsilon_fixed, approximator_trained)\n",
    "\n",
    "states_test1, rewards_test1, actions_test1 = exec_agent(policy_greedy, env)\n",
    "states_test2, rewards_test2, actions_test2 = exec_agent(policy_random, env)"
   ]
  },
  {
   "cell_type": "markdown",
   "metadata": {},
   "source": [
    "Plot all figures"
   ]
  },
  {
   "cell_type": "code",
   "execution_count": 26,
   "metadata": {},
   "outputs": [
    {
     "data": {
      "text/plain": [
       "<matplotlib.legend.Legend at 0x7fcca2b974f0>"
      ]
     },
     "execution_count": 26,
     "metadata": {},
     "output_type": "execute_result"
    },
    {
     "data": {
      "image/png": "[encoded data removed]",
      "text/plain": [
       "<Figure size 1080x720 with 1 Axes>"
      ]
     },
     "metadata": {
      "needs_background": "light"
     },
     "output_type": "display_data"
    },
    {
     "data": {
      "image/png": "[encoded data removed]",
      "text/plain": [
       "<Figure size 1080x720 with 1 Axes>"
      ]
     },
     "metadata": {
      "needs_background": "light"
     },
     "output_type": "display_data"
    }
   ],
   "source": [
    "d_state_names=(\"susceptibles\", \"infectious\", \"quarantined\", \"recovereds\")\n",
    "\n",
    "plt.figure(figsize=(15,10))\n",
    "for i in range(4):\n",
    "    plt.plot(list(zip(*states_test2))[i], label=d_state_names[i])\n",
    "plt.legend()\n",
    "\n",
    "plt.figure(figsize=(15,10))\n",
    "for i in range(4):\n",
    "    plt.plot(list(zip(*states_test1))[i], label=d_state_names[i])\n",
    "plt.legend()"
   ]
  },
  {
   "cell_type": "code",
   "execution_count": null,
   "metadata": {},
   "outputs": [],
   "source": []
  }
 ],
 "metadata": {
  "kernelspec": {
   "display_name": "Python 3",
   "language": "python",
   "name": "python3"
  },
  "language_info": {
   "codemirror_mode": {
    "name": "ipython",
    "version": 3
   },
   "file_extension": ".py",
   "mimetype": "text/x-python",
   "name": "python",
   "nbconvert_exporter": "python",
   "pygments_lexer": "ipython3",
   "version": "3.8.5"
  }
 },
 "nbformat": 4,
 "nbformat_minor": 4
}
