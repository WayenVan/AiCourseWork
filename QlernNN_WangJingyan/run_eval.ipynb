{
 "metadata": {
  "language_info": {
   "codemirror_mode": {
    "name": "ipython",
    "version": 3
   },
   "file_extension": ".py",
   "mimetype": "text/x-python",
   "name": "python",
   "nbconvert_exporter": "python",
   "pygments_lexer": "ipython3",
   "version": "3.8.5-final"
  },
  "orig_nbformat": 2,
  "kernelspec": {
   "name": "Python 3.8.5 64-bit ('anaconda3': virtualenv)",
   "display_name": "Python 3.8.5 64-bit ('anaconda3': virtualenv)",
   "metadata": {
    "interpreter": {
     "hash": "c518c8e99d0ef11bb842f1c53dc2bfcb7a7768f75d27c7d1f38e4a4e12e41447"
    }
   }
  }
 },
 "nbformat": 4,
 "nbformat_minor": 2,
 "cells": [
  {
   "cell_type": "markdown",
   "metadata": {},
   "source": [
    "## Evaluation Phase"
   ]
  },
  {
   "cell_type": "code",
   "execution_count": 1,
   "metadata": {},
   "outputs": [],
   "source": [
    "import numpy as np\n",
    "import matplotlib.pyplot as plt\n",
    "import sys\n",
    "\n",
    "\n",
    "from collections import namedtuple\n",
    "\n",
    "%matplotlib inline\n",
    "#\n",
    "from evaluation import *\n",
    "from approximator import *\n",
    "from q_learning_nn import *\n",
    "\n",
    "#import environment\n",
    "sys.path.append(r'../virl')\n",
    "import virl"
   ]
  },
  {
   "cell_type": "code",
   "execution_count": 2,
   "metadata": {},
   "outputs": [],
   "source": [
    "\n",
    "#load test environment\n",
    "\n",
    "for num_instance in range(10):\n",
    "    env = virl.Epidemic(problem_id=num_instance, noisy=True, stochastic=True)\n",
    "\n",
    "    n_episode = 100\n",
    "\n",
    "    alpha = 0.0\n",
    "    nn_config = [36, 36]\n",
    "    BATCH_SIZE = 10\n",
    "    BUFFER_SIZE = 10000\n",
    "\n",
    "    d_states = env.observation_space.shape[0]\n",
    "    n_actions = env.action_space.n\n",
    "\n",
    "    nn_approximator =  NNFunctionApproximatorJointKeras(alpha, d_states, n_actions, nn_config)\n",
    "    nn_approximator_target =  NNFunctionApproximatorJointKeras(alpha, d_states, n_actions, nn_config)\n",
    "\n",
    "    stats = q_learning_nn(env, nn_approximator, func_approximator_target, use_normalization =True,\n",
    "    max_se\n",
    "    )"
   ]
  }
 ]
}